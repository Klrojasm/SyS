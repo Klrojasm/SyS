{
  "nbformat": 4,
  "nbformat_minor": 0,
  "metadata": {
    "colab": {
      "provenance": [],
      "authorship_tag": "ABX9TyNl2OIfWNsY60+Q/ClJriN3",
      "include_colab_link": true
    },
    "kernelspec": {
      "name": "python3",
      "display_name": "Python 3"
    },
    "language_info": {
      "name": "python"
    }
  },
  "cells": [
    {
      "cell_type": "markdown",
      "metadata": {
        "id": "view-in-github",
        "colab_type": "text"
      },
      "source": [
        "<a href=\"https://colab.research.google.com/github/Klrojasm/SyS/blob/main/Copia_de_trabajo_en_clase_de_9_de_noviembre.ipynb\" target=\"_parent\"><img src=\"https://colab.research.google.com/assets/colab-badge.svg\" alt=\"Open In Colab\"/></a>"
      ]
    },
    {
      "cell_type": "markdown",
      "source": [
        "**Ejercicio**\n",
        "\n",
        "* Qué relación tiene $\\lambda$ con el la salida obtenida al resolver la EDO?\n",
        "* Puede generalizar sus resultados a una EDO de orden arbitrario?"
      ],
      "metadata": {
        "id": "pOz90U06_Hxv"
      }
    },
    {
      "cell_type": "markdown",
      "source": [
        "El peso $\\lambda$ asociado con x(t) se conoce como valor propio escalar del sistema. Por lo tanto, además de ser un factor de ponderación, una función propia no se modifica al pasar por el sistema.\n",
        "\n",
        "De igual manera cuando resolvemos una EDO utilizando la transformada de Laplace, la constante λ está asociada a la variable transformada. Si consideramos una EDO lineal homogénea de segundo orden\n"
      ],
      "metadata": {
        "id": "-C66GKfa_KI1"
      }
    },
    {
      "cell_type": "markdown",
      "source": [
        "El método de la transformada de Laplace se puede generalizar para resolver ecuaciones diferenciales ordinarias (EDO) de orden arbitrario. Para ilustrar esto, consideremos una EDO lineal homogénea de orden nn:\n",
        "\n",
        "any(n)+an−1y(n−1)+…+a1y′+a0y=0an​y(n)+an−1​y(n−1)+…+a1​y′+a0​y=0\n",
        "\n",
        "donde y(n)y(n) denota la n-ésima derivada de y con respecto al tiempo t, y an,an−1,…,a0an​,an−1​,…,a0​ son constantes.\n",
        "\n",
        "Aplicando la transformada de Laplace a ambos lados de la ecuación y utilizando las propiedades de la transformada de Laplace, se obtiene:\n",
        "\n",
        "$anL${y(n)}$+an−1L${y(n−1)}$+…+a1L${y′}$+a0L${y}$=0an​L${y(n)}$+an−1​L${y(n−1)}$+…+a1$​L{y′}$+a0​L${y}$=0$\n",
        "\n",
        "Donde LL denota la transformada de Laplace. Luego, utilizando las propiedades de la transformada de Laplace para las derivadas, la ecuación se convierte en una ecuación algebraica en términos de la variable transformada Y(s), que está relacionada con la función y(t).\n",
        "\n",
        "Finalmente, resolviendo la ecuación algebraica en Y(s), podemos encontrar la expresión para Y(s). Luego, aplicando la transformada inversa de Laplace, obtenemos la solución en el dominio del tiempo y(t).\n",
        "\n",
        "La solución en términos de la variable transformada Y(s) puede implicar términos con la constante λ debido a la parte imaginaria de ss. La elección específica de la constante λ está relacionada con las condiciones iniciales del problema y la forma de la solución deseada. En la práctica, este enfoque se aplica a menudo para resolver EDO de orden arbitrario utilizando la transformada de Laplace."
      ],
      "metadata": {
        "id": "P-usWg10CFwg"
      }
    },
    {
      "cell_type": "markdown",
      "source": [
        "\n",
        "\n",
        "**Ejercicio**\n",
        "\n",
        "* ¿Qué relación tiene $\\lambda$ con el la salida obtenida al resolver la EDO?\n",
        "\n",
        "> ***R/*** En el cuaderno se planteó que $x(t)=e^{st}$ y $y(t)=\\lambda\\cdot e^{st}$. Y se reemplaza en la ecuación\n",
        "\n",
        "$$\n",
        "x(t)=a_{0}y(t) + a_{1}\\frac{dy(t)}{dt} + a_{2}\\frac{d^{2}y(t)}{dt^{2}}\n",
        "$$\n",
        "\n",
        "Entonces quedaría\n",
        "\n",
        "$$\n",
        "e^{st}=a_{0}\\lambda e^{st} + a_{1}\\lambda se^{st} + a_{2} \\lambda s^{2}e^{st}\n",
        "$$\n",
        "\n",
        "Agrupando términos comunos daría\n",
        "\n",
        "$$\n",
        "e^{st}=\\lambda e^{st}(a_{0}+a_{1}s+a_{2}s^{2})\n",
        "$$\n",
        "\n",
        "Luego, se despeja $\\lambda$ y quedaría\n",
        "\n",
        "$$\n",
        "\\lambda=\\frac{1}{a_{0}+a_{1}s+a_{2}s^{2}}\n",
        "$$\n",
        "\n",
        "Como se puede evidenciar, para la salida $y(t)$ planteada en el cuaderno, $\\lambda$ dio lo mismo, pero multiplicándolo por $e^st$.\n",
        "\n",
        "* ¿Puede generalizar sus resultados a una EDO de orden arbitrario?\n",
        "\n",
        "> ***R/*** Sí, esta expresión se puede generalizar a\n",
        "\n",
        "$$\n",
        "x(t)=a_{0}y(t) + a_{1}\\frac{dy(t)}{dt} + a_{2}\\frac{d^{2}y(t)}{dt^{2}} + \\ldots + a_m\\frac{d^{m}y(t)}{dt^m}\n",
        "$$\n",
        "\n",
        "Entonces quedaría\n",
        "\n",
        "$$\n",
        "e^{st}=a_{0}\\lambda e^{st} + a_{1}\\lambda se^{st} + a_{2} \\lambda s^{2}e^{st}+ \\ldots + a_m\\lambda s^m e^{st}\n",
        "$$\n",
        "\n",
        "Agrupando términos comunos daría\n",
        "\n",
        "$$\n",
        "e^{st}=\\lambda e^{st}(a_{0}+a_{1}s+a_{2}s^{2}+\\ldots + a_ms^m)\n",
        "$$\n",
        "\n",
        "Luego, se despeja $\\lambda$ y quedaría\n",
        "\n",
        "$$\n",
        "\\lambda=\\frac{1}{a_{0}+a_{1}s+a_{2}s^{2}+\\ldots+a_{m} \\lambda s^{m}}\n",
        "$$"
      ],
      "metadata": {
        "id": "JcGzgGo4KUwf"
      }
    },
    {
      "cell_type": "markdown",
      "source": [
        "Condiciones iniciales diferentes cero\n",
        "\n",
        "\\begin{equation}\n",
        "y(t) = y_\\text{ext}(t) + y_\\text{int}(t)\n",
        "\\end{equation}"
      ],
      "metadata": {
        "id": "PF3ujJoONO8m"
      }
    },
    {
      "cell_type": "code",
      "source": [
        "%matplotlib inline\n",
        "import sympy as sym\n",
        "sym.init_printing()\n",
        "\n",
        "s = sym.symbols('s', complex=True)\n",
        "t, R, L, C = sym.symbols('t R L C', positive=True)\n",
        "X = sym.Function('X')(s)\n",
        "\n",
        "Y = X/(L*C*s**2 + R*C*s + 1)\n",
        "RLC = {R:1 , L: sym.Rational('.5'), C: sym.Rational('.3')}\n",
        "\n",
        "y = sym.inverse_laplace_transform(Y.subs(RLC).subs(X, 1), s, t) # entrada impulso que en laplace es 1\n",
        "y = y.simplify()\n",
        "y"
      ],
      "metadata": {
        "colab": {
          "base_uri": "https://localhost:8080/",
          "height": 66
        },
        "id": "BSCd_hhKLJmi",
        "outputId": "7916ea6e-666b-4d2c-a854-88e4bf482250"
      },
      "execution_count": null,
      "outputs": [
        {
          "output_type": "execute_result",
          "data": {
            "text/plain": [
              "        -t    ⎛√51⋅t⎞\n",
              "20⋅√51⋅ℯ  ⋅sin⎜─────⎟\n",
              "              ⎝  3  ⎠\n",
              "─────────────────────\n",
              "          51         "
            ],
            "text/latex": "$\\displaystyle \\frac{20 \\sqrt{51} e^{- t} \\sin{\\left(\\frac{\\sqrt{51} t}{3} \\right)}}{51}$"
          },
          "metadata": {},
          "execution_count": 1
        }
      ]
    },
    {
      "cell_type": "code",
      "source": [
        "sym.plot(y, (t, 0, 5), xlabel='$t$', ylabel='$y(t)$');"
      ],
      "metadata": {
        "colab": {
          "base_uri": "https://localhost:8080/",
          "height": 486
        },
        "id": "r82VVt5vNJ6m",
        "outputId": "e594a64e-d507-4513-c650-aa5da35df739"
      },
      "execution_count": null,
      "outputs": [
        {
          "output_type": "display_data",
          "data": {
            "text/plain": [
              "<Figure size 640x480 with 1 Axes>"
            ],
            "image/png": "[encoded data removed]"
          },
          "metadata": {}
        }
      ]
    },
    {
      "cell_type": "code",
      "source": [
        "yext = y\n",
        "yext.simplify()"
      ],
      "metadata": {
        "colab": {
          "base_uri": "https://localhost:8080/",
          "height": 66
        },
        "id": "F3XTFb2_NKPt",
        "outputId": "15a9fc8d-b831-4e72-b813-b9b52602a1a2"
      },
      "execution_count": null,
      "outputs": [
        {
          "output_type": "execute_result",
          "data": {
            "text/plain": [
              "        -t    ⎛√51⋅t⎞\n",
              "20⋅√51⋅ℯ  ⋅sin⎜─────⎟\n",
              "              ⎝  3  ⎠\n",
              "─────────────────────\n",
              "          51         "
            ],
            "text/latex": "$\\displaystyle \\frac{20 \\sqrt{51} e^{- t} \\sin{\\left(\\frac{\\sqrt{51} t}{3} \\right)}}{51}$"
          },
          "metadata": {},
          "execution_count": 3
        }
      ]
    },
    {
      "cell_type": "code",
      "source": [
        "i0, y0 = sym.symbols('i0 y0', real=True)\n",
        "\n",
        "Yint = (R*C + L*C*s) / (L*C*s**2 + R*C*s + 1) * y0 + L / (L*C*s**2 + R*C*s + 1) * i0\n",
        "Yint"
      ],
      "metadata": {
        "colab": {
          "base_uri": "https://localhost:8080/",
          "height": 54
        },
        "id": "WD-LB-hzNQKx",
        "outputId": "7726eb5b-7293-4e47-9e81-9c5a36c91f95"
      },
      "execution_count": null,
      "outputs": [
        {
          "output_type": "execute_result",
          "data": {
            "text/plain": [
              "       L⋅i₀           y₀⋅(C⋅L⋅s + C⋅R) \n",
              "────────────────── + ──────────────────\n",
              "     2                    2            \n",
              "C⋅L⋅s  + C⋅R⋅s + 1   C⋅L⋅s  + C⋅R⋅s + 1"
            ],
            "text/latex": "$\\displaystyle \\frac{L i_{0}}{C L s^{2} + C R s + 1} + \\frac{y_{0} \\left(C L s + C R\\right)}{C L s^{2} + C R s + 1}$"
          },
          "metadata": {},
          "execution_count": 4
        }
      ]
    },
    {
      "cell_type": "code",
      "source": [
        "yint = sym.inverse_laplace_transform(Yint.subs(RLC).subs(i0, 1).subs(y0, -1), s, t)\n",
        "yint"
      ],
      "metadata": {
        "colab": {
          "base_uri": "https://localhost:8080/",
          "height": 75
        },
        "id": "2ZXO587VNRx4",
        "outputId": "255553e9-dd17-412c-93af-5c1d0e5e7f62"
      },
      "execution_count": null,
      "outputs": [
        {
          "output_type": "execute_result",
          "data": {
            "text/plain": [
              "       -t    ⎛√51⋅t⎞                 \n",
              "7⋅√51⋅ℯ  ⋅sin⎜─────⎟                 \n",
              "             ⎝  3  ⎠    -t    ⎛√51⋅t⎞\n",
              "──────────────────── - ℯ  ⋅cos⎜─────⎟\n",
              "         51                   ⎝  3  ⎠"
            ],
            "text/latex": "$\\displaystyle \\frac{7 \\sqrt{51} e^{- t} \\sin{\\left(\\frac{\\sqrt{51} t}{3} \\right)}}{51} - e^{- t} \\cos{\\left(\\frac{\\sqrt{51} t}{3} \\right)}$"
          },
          "metadata": {},
          "execution_count": 5
        }
      ]
    },
    {
      "cell_type": "code",
      "source": [
        "y = yext + yint\n",
        "y.simplify()"
      ],
      "metadata": {
        "colab": {
          "base_uri": "https://localhost:8080/",
          "height": 81
        },
        "id": "iihZtXQ1NSvz",
        "outputId": "a3c89585-1676-49f9-d1ac-0e9e6f9819fc"
      },
      "execution_count": null,
      "outputs": [
        {
          "output_type": "execute_result",
          "data": {
            "text/plain": [
              "⎛         ⎛√51⋅t⎞             ⎞    \n",
              "⎜9⋅√51⋅sin⎜─────⎟             ⎟    \n",
              "⎜         ⎝  3  ⎠      ⎛√51⋅t⎞⎟  -t\n",
              "⎜──────────────── - cos⎜─────⎟⎟⋅ℯ  \n",
              "⎝       17             ⎝  3  ⎠⎠    "
            ],
            "text/latex": "$\\displaystyle \\left(\\frac{9 \\sqrt{51} \\sin{\\left(\\frac{\\sqrt{51} t}{3} \\right)}}{17} - \\cos{\\left(\\frac{\\sqrt{51} t}{3} \\right)}\\right) e^{- t}$"
          },
          "metadata": {},
          "execution_count": 6
        }
      ]
    },
    {
      "cell_type": "code",
      "source": [
        "p1 = sym.plot(yext, (t, 0, 5), line_color='b', xlabel='$t$', ylabel='$y(t)$', show=False)\n",
        "p2 = sym.plot(yint, (t, 0, 5), line_color='g', show=False)\n",
        "p3 = sym.plot(y, (t, 0, 5), line_color='r', show=False)\n",
        "p1.extend(p2)\n",
        "p1.extend(p3)\n",
        "p1.show()"
      ],
      "metadata": {
        "colab": {
          "base_uri": "https://localhost:8080/",
          "height": 487
        },
        "id": "9a_ZIJExNTlw",
        "outputId": "aaa21953-ac97-49b0-b805-abf669e34db0"
      },
      "execution_count": null,
      "outputs": [
        {
          "output_type": "display_data",
          "data": {
            "text/plain": [
              "<Figure size 640x480 with 1 Axes>"
            ],
            "image/png": "[encoded data removed]"
          },
          "metadata": {}
        }
      ]
    },
    {
      "cell_type": "markdown",
      "source": [
        "Para el escalon unitario, reiniciamos nuestras condiciones en 0"
      ],
      "metadata": {
        "id": "JN7_EDobNkEL"
      }
    },
    {
      "cell_type": "code",
      "source": [
        "%matplotlib inline\n",
        "import sympy as sym\n",
        "sym.init_printing()\n",
        "\n",
        "s = sym.symbols('s', complex=True)\n",
        "t, R, L, C = sym.symbols('t R L C', positive=True)\n",
        "X = sym.Function('X')(s)\n",
        "\n",
        "Y = X/(L*C*s**2 + R*C*s + 1)\n",
        "RLC = {R:1 , L: sym.Rational('.5'), C: sym.Rational('.3')}\n",
        "\n",
        "y = sym.inverse_laplace_transform(Y.subs(RLC).subs(X, 1/s), s, t) # entrada escalón unitario en laplace es 1/s\n",
        "y = y.simplify()\n",
        "y"
      ],
      "metadata": {
        "id": "nGMPxzL5NpgZ"
      },
      "execution_count": null,
      "outputs": []
    },
    {
      "cell_type": "code",
      "source": [
        "sym.plot(y, (t, 0, 5), xlabel='$t$', ylabel='$y(t)$');"
      ],
      "metadata": {
        "id": "If0un5ngNq_F"
      },
      "execution_count": null,
      "outputs": []
    },
    {
      "cell_type": "markdown",
      "source": [
        "Para el caso de las condiciones iniciales diferentes de 0, tenemos\n",
        "\\begin{equation}\n",
        "y(t) = y_\\text{ext}(t) + y_\\text{int}(t)\n",
        "\\end{equation}"
      ],
      "metadata": {
        "id": "b1sRsRQ_NtTJ"
      }
    },
    {
      "cell_type": "code",
      "source": [
        "yext = y\n",
        "yext.simplify()"
      ],
      "metadata": {
        "id": "ZQNDnWR_Nxhy"
      },
      "execution_count": null,
      "outputs": []
    },
    {
      "cell_type": "code",
      "source": [
        "i0, y0 = sym.symbols('i0 y0', real=True)\n",
        "\n",
        "Yint = (R*C + L*C*s) / (L*C*s**2 + R*C*s + 1) * y0 + L / (L*C*s**2 + R*C*s + 1) * i0\n",
        "Yint"
      ],
      "metadata": {
        "id": "RfnE9rLPNz5a"
      },
      "execution_count": null,
      "outputs": []
    },
    {
      "cell_type": "code",
      "source": [
        "yint = sym.inverse_laplace_transform(Yint.subs(RLC).subs(i0, 2).subs(y0, 3), s, t)\n",
        "yint"
      ],
      "metadata": {
        "id": "RQyTMOAoN0RF"
      },
      "execution_count": null,
      "outputs": []
    },
    {
      "cell_type": "code",
      "source": [
        "y = yext + yint\n",
        "y.simplify()"
      ],
      "metadata": {
        "id": "O66k5CehN1hp"
      },
      "execution_count": null,
      "outputs": []
    },
    {
      "cell_type": "markdown",
      "source": [
        "para así gracias siendo la linea verde la parte interna, la azul la parte externa y la linea roja la de salida."
      ],
      "metadata": {
        "id": "WXTYgCcdN2wd"
      }
    },
    {
      "cell_type": "markdown",
      "source": [
        "p1 = sym.plot(yext, (t, 0, 5), line_color='b', xlabel='$t$', ylabel='$y(t)$', show=False)\n",
        "p2 = sym.plot(yint, (t, 0, 5), line_color='g', show=False)\n",
        "p3 = sym.plot(y, (t, 0, 5), line_color='r', show=False)\n",
        "p1.extend(p2)\n",
        "p1.extend(p3)\n",
        "p1.show()"
      ],
      "metadata": {
        "id": "AR5Y4Lt0OOrx"
      }
    }
  ]
}