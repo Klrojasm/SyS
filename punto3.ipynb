{
  "nbformat": 4,
  "nbformat_minor": 0,
  "metadata": {
    "colab": {
      "private_outputs": true,
      "provenance": [],
      "include_colab_link": true
    },
    "kernelspec": {
      "name": "python3",
      "display_name": "Python 3"
    },
    "language_info": {
      "name": "python"
    }
  },
  "cells": [
    {
      "cell_type": "markdown",
      "metadata": {
        "id": "view-in-github",
        "colab_type": "text"
      },
      "source": [
        "<a href=\"https://colab.research.google.com/github/Klrojasm/SyS/blob/main/punto3.ipynb\" target=\"_parent\"><img src=\"https://colab.research.google.com/assets/colab-badge.svg\" alt=\"Open In Colab\"/></a>"
      ]
    },
    {
      "cell_type": "markdown",
      "source": [
        "# Case Western Reserve Experiments\n",
        "\n",
        "\n",
        "Sea la base de datos para el monitoreo de condición (fallos) en rodamientos a partir del análisis de vibraciones descrita en [Case Western Reserve Experiments](https://engineering.case.edu/bearingdatacenter). Las señales fueron adquiridas para las siguientes condiciones (clases): i) Normal bearing (Nor), fault in the internal train (IR1), fault in the external train (IR2), and fault in the rolling element-ball (BE). Además, los fallos se generaron para tres niveles de severidad (profundidad): 0.007′′, 0.014′′, and 0.021′′ y tres velocidades de operación (1730, 1750, 1772, and 1797 [rpm]). Los datos fueron adquiridos a 12 kHz. Por consiguiente, se tienen los siguientes parámetros de estudio: $F_s=12k$ [Hz] cantidad de puntos en el tiempo $4096$ y cantidad de clases $C = 10$.\n",
        "\n",
        "Grafique la señal promedio de cada fallo en el tiempo y en la frecuencia.\n",
        "\n",
        "Utilizando la transformada rápida de Fourier diseñe y construya un detector fallos en rodamientos a partir de señales de vibración y sus etiquetas en los arreglos Xtrain y Ytrain (ver cuaderno de apoyo). Genere las predicciones de fallos para el arreglo Xtest."
      ],
      "metadata": {
        "id": "RdP1id0o3Ry0"
      }
    },
    {
      "cell_type": "markdown",
      "source": [
        "trabajando desde el cuaderno suministraddo por el profesor:"
      ],
      "metadata": {
        "id": "mOJ-piZ8nCYM"
      }
    },
    {
      "cell_type": "code",
      "execution_count": null,
      "metadata": {
        "id": "3lKHA47I1-UE"
      },
      "outputs": [],
      "source": [
        "#data downloaded for google drive\n",
        "FILEID = \"1IC11LrPCZIo_Am5eXP2p2tDAlrGTlPjn\"\n",
        "!wget --load-cookies /tmp/cookies.txt \"https://docs.google.com/uc?export=download&confirm=$(wget --quiet --save-cookies /tmp/cookies.txt --keep-session-cookies --no-check-certificate 'https://docs.google.com/uc?export=download&id='$FILEID -O- | sed -rn 's/.*confirm=([0-9A-Za-z_]+).*/\\1\\n/p')&id=\"$FILEID -O datos.zip && rm -rf /tmp/cookies.txt\n",
        "!unzip -o datos.zip\n",
        "!dir"
      ]
    },
    {
      "cell_type": "code",
      "source": [
        "#librerias\n",
        "import scipy.io as sio\n",
        "from sklearn.decomposition import PCA\n",
        "from sklearn.manifold import TSNE\n",
        "from sklearn.preprocessing import MinMaxScaler, StandardScaler\n",
        "import numpy as np\n",
        "import matplotlib.pyplot as plt\n",
        "from matplotlib.ticker import FormatStrFormatter\n",
        "import warnings\n",
        "from sklearn.metrics import pairwise_distances\n",
        "import matplotlib\n",
        "from sklearn.model_selection import train_test_split\n",
        "\n",
        "warnings.filterwarnings('ignore')\n",
        "\n",
        "#cargar datos\n",
        "path_ = 'CaractCE.mat'#Case Western Database\n",
        "dicX = sio.loadmat(path_)"
      ],
      "metadata": {
        "id": "FeQgT1n13EZI"
      },
      "execution_count": null,
      "outputs": []
    },
    {
      "cell_type": "code",
      "source": [
        "Xt = dicX['F'] #datos en el tiempo\n",
        "Fs = 12000 #frecuencia de muestreo\n",
        "Tl = Xt.shape[1]/Fs #tamaño del segmento\n",
        "print('Xt shape:',Xt.shape)\n",
        "print('tiempo [s]', Tl)\n",
        "\n",
        "Y = dicX['E']\n",
        "Ytrue = Y[:,2] #clases fallos en los rodamientos\n",
        "\n",
        "labels_ = ['NOR','IR1_0.007´´','IR1_0.014´´','IR1_0.021´´',\n",
        "           'IR2_0.007´´','IR2_0.014´´','IR2_0.021´´',\n",
        "           'BE_0.007´´','BE_0.014´´','BE_0.021´´'\n",
        "           ] #nombres de las clases"
      ],
      "metadata": {
        "id": "1yN9Ox193IbR"
      },
      "execution_count": null,
      "outputs": []
    },
    {
      "cell_type": "code",
      "source": [
        "print(Ytrue.shape) #etique membresia de los datos 10 posibles valores\n",
        "print(np.unique(Ytrue))"
      ],
      "metadata": {
        "id": "HbuSRvEN3K0-"
      },
      "execution_count": null,
      "outputs": []
    },
    {
      "cell_type": "code",
      "source": [
        "#partir datos para train y test\n",
        "Xtrain, Xtest, Ytrain, _ = train_test_split(Xt, Ytrue, test_size=0.3)\n",
        "\n",
        "print(f\"Xtrain shape {Xtrain.shape}, Ytrain shape {Ytrain.shape }Xtest shape {Xtest.shape} \")"
      ],
      "metadata": {
        "id": "x3TqREMU3LHz"
      },
      "execution_count": null,
      "outputs": []
    },
    {
      "cell_type": "code",
      "source": [
        "#calcular espectro de Fourier Xtrain\n",
        "vf = np.fft.rfftfreq(Xtrain.shape[1],1/Fs) #freq vector\n",
        "Xw = (abs(np.fft.rfft(Xtrain))) # FFT\n",
        "Xw.shape"
      ],
      "metadata": {
        "id": "r0VZN69T3auJ"
      },
      "execution_count": null,
      "outputs": []
    },
    {
      "cell_type": "code",
      "source": [
        "#graficar espectro para clases representativas\n",
        "sca_ = MinMaxScaler()\n",
        "Xw_ = sca_.fit_transform(Xw.T).T\n",
        "#red = TSNE(perplexity = 15,n_components=2,random_state=123,learning_rate='auto',init='pca')\n",
        "red = PCA(n_components=2)\n",
        "Z = red.fit_transform(Xw_)\n",
        "\n",
        "plt.scatter(Z[:,0],Z[:,1],c=Ytrain, label='Xtrain')\n",
        "plt.colorbar()\n",
        "plt.show()"
      ],
      "metadata": {
        "id": "fphITOjOYW2O"
      },
      "execution_count": null,
      "outputs": []
    },
    {
      "cell_type": "code",
      "source": [
        "# Calcular el espectro de Fourier utilizando rfft\n",
        "Xw = np.abs(np.fft.rfft(Xtrain))\n",
        "\n",
        "# Graficar el espectro de Fourier de las señales en Xtrain\n",
        "n_subplots = len(Xtrain)\n",
        "n_figures = (n_subplots - 1) // 4 + 1\n",
        "\n",
        "for figure_index in range(n_figures):\n",
        "    plt.figure(figsize=(15, 8))  # Ajusta el tamaño de la figura\n",
        "\n",
        "    for i in range(4):\n",
        "        subplot_index = figure_index * 4 + i\n",
        "        if subplot_index < n_subplots:\n",
        "            plt.subplot(2, 2, i + 1)  # Configura una cuadrícula de 2x2\n",
        "            plt.plot(vf, Xw[subplot_index])\n",
        "            plt.title(f'Clase {Ytrain[subplot_index]}')\n",
        "            plt.xlabel('Frecuencia (Hz)')\n",
        "            plt.ylabel('Amplitud')\n",
        "            plt.grid()\n",
        "\n",
        "    plt.tight_layout()\n",
        "    plt.show()\n",
        "\n",
        "# Reducción de dimensionalidad con PCA\n",
        "pca = PCA(n_components=2)\n",
        "X_pca = pca.fit_transform(Xw)\n",
        "\n",
        "# Gráfico de dispersión de las clases en el espacio reducido\n",
        "plt.figure(figsize=(8, 6))\n",
        "scatter = plt.scatter(X_pca[:, 0], X_pca[:, 1], c=Ytrain, cmap='viridis')\n",
        "plt.legend(*scatter.legend_elements(), title='Clases')\n",
        "plt.title('Visualización PCA de las clases')\n",
        "plt.xlabel('Componente Principal 1')\n",
        "plt.ylabel('Componente Principal 2')\n",
        "plt.show()"
      ],
      "metadata": {
        "id": "ahu35DGkO65b"
      },
      "execution_count": null,
      "outputs": []
    },
    {
      "cell_type": "markdown",
      "source": [
        "Procedemos a realizar cada grafico de las señales suministradas en funcion del tiempo"
      ],
      "metadata": {
        "id": "IwhnXG7xnH_-"
      }
    },
    {
      "cell_type": "code",
      "source": [
        "# Graficar las señales en el dominio del tiempo\n",
        "n_subplots = len(Xtrain)\n",
        "n_figures = (n_subplots - 1) // 4 + 1\n",
        "\n",
        "for figure_index in range(n_figures):\n",
        "    plt.figure(figsize=(15, 8))  # Ajusta el tamaño de la figura\n",
        "\n",
        "    for i in range(4):\n",
        "        subplot_index = figure_index * 4 + i\n",
        "        if subplot_index < n_subplots:\n",
        "            plt.subplot(2, 2, i + 1)  # Configura una cuadrícula de 2x2\n",
        "            plt.plot(Xtrain[subplot_index])\n",
        "            plt.title(f'Clase {Ytrain[subplot_index]}')\n",
        "            plt.xlabel('Tiempo')\n",
        "            plt.ylabel('Amplitud')\n",
        "            plt.grid()\n",
        "\n",
        "    plt.tight_layout()\n",
        "    plt.show()"
      ],
      "metadata": {
        "id": "xuPgrT8cZWeg"
      },
      "execution_count": null,
      "outputs": []
    },
    {
      "cell_type": "markdown",
      "source": [
        "ahora en funcion de la frecuencia"
      ],
      "metadata": {
        "id": "ohpBzlc-nMFw"
      }
    },
    {
      "cell_type": "code",
      "source": [
        "import numpy as np\n",
        "import scipy.io as sio\n",
        "import matplotlib.pyplot as plt\n",
        "\n",
        "# Cargar los datos\n",
        "path_ = 'CaractCE.mat'  # Ruta de la base de datos Case Western\n",
        "dicX = sio.loadmat(path_)\n",
        "Xt = dicX['F']  # Datos en el tiempo\n",
        "Fs = 12000  # Frecuencia de muestreo\n",
        "\n",
        "Y = dicX['E']\n",
        "Ytrue = Y[:, 2]  # Clases de fallos en los rodamientos\n",
        "\n",
        "# Función para calcular el espectro de Fourier utilizando rfft\n",
        "def calculate_spectrogram(signal):\n",
        "    return np.abs(np.fft.rfft(signal))\n",
        "\n",
        "# Crear un diccionario para almacenar las señales promedio\n",
        "average_signals = {}\n",
        "\n",
        "# Calcular y graficar la señal promedio en el tiempo y en la frecuencia para cada clase\n",
        "for class_label in np.unique(Ytrue):\n",
        "    # Filtrar las señales para la clase actual\n",
        "    class_data = Xt[Ytrue == class_label]\n",
        "\n",
        "    # Calcular la señal promedio en el tiempo\n",
        "    average_signal_time = np.mean(class_data, axis=0)\n",
        "\n",
        "    # Calcular la señal promedio en la frecuencia utilizando la transformada de Fourier\n",
        "    average_signal_freq = calculate_spectrogram(average_signal_time)\n",
        "\n",
        "    # Agregar las señales promedio al diccionario\n",
        "    average_signals[class_label] = (average_signal_time, average_signal_freq)\n",
        "\n",
        "    # Graficar la señal promedio en el tiempo\n",
        "    plt.figure(figsize=(10, 4))\n",
        "    plt.subplot(1, 2, 1)\n",
        "    plt.plot(average_signal_time)\n",
        "    plt.title(f'Average Signal in Time (Class {class_label})')\n",
        "    plt.xlabel('Tiempo')\n",
        "    plt.ylabel('Amplitud')\n",
        "\n",
        "    # Graficar la señal promedio en la frecuencia\n",
        "    plt.subplot(1, 2, 2)\n",
        "    vf = np.fft.rfftfreq(len(average_signal_time), 1 / Fs)\n",
        "    plt.plot(vf, average_signal_freq)\n",
        "    plt.title(f'Average Signal in Frequency (Class {class_label})')\n",
        "    plt.xlabel('Frecuencia (Hz)')\n",
        "    plt.ylabel('Amplitud')\n",
        "\n",
        "\n",
        "    plt.tight_layout()\n",
        "    plt.show()"
      ],
      "metadata": {
        "id": "CnBnWXV8boGk"
      },
      "execution_count": null,
      "outputs": []
    },
    {
      "cell_type": "markdown",
      "source": [
        "para finalmente realizar las comparaciones de una señal nueva con nuestro banco de datos de los espectros los cuales se les sacó una media."
      ],
      "metadata": {
        "id": "2e2TgUponOJm"
      }
    },
    {
      "cell_type": "code",
      "source": [
        "import numpy as np\n",
        "import scipy.io as sio\n",
        "\n",
        "# Cargar la base de datos\n",
        "path_ = 'CaractCE.mat'  # Ruta de la base de datos Case Western\n",
        "dicX = sio.loadmat(path_)\n",
        "Xt = dicX['F']  # Datos en el tiempo\n",
        "Fs = 12000  # Frecuencia de muestreo\n",
        "\n",
        "Y = dicX['E']\n",
        "Ytrue = Y[:, 2]  # Clases de fallos en los rodamientos\n",
        "\n",
        "# Función para calcular el espectro de Fourier utilizando rfft\n",
        "def calculate_spectrogram(signal, max_spectrum_length=None):\n",
        "    if max_spectrum_length is not None:\n",
        "        signal = signal[:max_spectrum_length]  # Asegurar que todas las señales tengan la misma longitud\n",
        "    return np.abs(np.fft.rfft(signal))\n",
        "\n",
        "# Crear un diccionario para almacenar las señales promedio\n",
        "average_signals = {}\n",
        "\n",
        "# Encontrar la longitud máxima de espectro en la base de datos\n",
        "max_spectrum_length = max(len(signal) for signal in Xt)\n",
        "\n",
        "# Calcular y graficar la señal promedio en el tiempo y en la frecuencia para cada clase\n",
        "for class_label in np.unique(Ytrue):\n",
        "    # Filtrar las señales para la clase actual\n",
        "    class_data = Xt[Ytrue == class_label]\n",
        "\n",
        "    # Calcular la señal promedio en el tiempo\n",
        "    average_signal_time = np.mean(class_data, axis=0)\n",
        "\n",
        "    # Calcular el espectro de Fourier con la longitud máxima\n",
        "    average_signal_freq = calculate_spectrogram(average_signal_time, max_spectrum_length)\n",
        "\n",
        "    # Agregar las señales promedio al diccionario\n",
        "    average_signals[class_label] = (average_signal_time, average_signal_freq)\n",
        "\n",
        "def compare_to_database(signal, similarity_threshold=500):\n",
        "    signal_spectrogram = calculate_spectrogram(signal, max_spectrum_length)\n",
        "\n",
        "    best_match = None\n",
        "    best_distance = float('inf')\n",
        "\n",
        "    for class_label, (_, avg_freq) in average_signals.items():\n",
        "        distance = np.linalg.norm(signal_spectrogram - avg_freq)\n",
        "        if distance < best_distance and distance < similarity_threshold:\n",
        "            best_distance = distance\n",
        "            best_match = class_label\n",
        "\n",
        "    if best_match is None:\n",
        "        return \"no tiene similitud con nuestra base de datos\"\n",
        "    else:\n",
        "        return best_match\n",
        "\n",
        "# Señal entrante de un nuevo motor (reemplaza esto con tu señal)\n",
        "new_signal = np.random.rand(max_spectrum_length)\n",
        "\n",
        "# Realizar la comparación con la base de datos\n",
        "best_match_class = compare_to_database(new_signal)\n",
        "\n",
        "# Mostrar la clase a la que se parece más\n",
        "print(f'La señal entrante se parece más a la clase {best_match_class}')"
      ],
      "metadata": {
        "id": "qpGcRfFSe4mr"
      },
      "execution_count": null,
      "outputs": []
    }
  ]
}