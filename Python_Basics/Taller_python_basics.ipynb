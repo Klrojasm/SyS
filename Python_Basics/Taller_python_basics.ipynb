{
  "nbformat": 4,
  "nbformat_minor": 0,
  "metadata": {
    "colab": {
      "provenance": [],
      "authorship_tag": "ABX9TyPWnhx1eFuSoT9EQUAQT5Qt",
      "include_colab_link": true
    },
    "kernelspec": {
      "name": "python3",
      "display_name": "Python 3"
    },
    "language_info": {
      "name": "python"
    }
  },
  "cells": [
    {
      "cell_type": "markdown",
      "metadata": {
        "id": "view-in-github",
        "colab_type": "text"
      },
      "source": [
        "<a href=\"https://colab.research.google.com/github/Klrojasm/SyS/blob/main/Taller_python_basics.ipynb\" target=\"_parent\"><img src=\"https://colab.research.google.com/assets/colab-badge.svg\" alt=\"Open In Colab\"/></a>"
      ]
    },
    {
      "cell_type": "markdown",
      "source": [
        "Exercises Variables:\n",
        "\n",
        "1.Write a program that displays the result of the following arithmetic operation on the screen: $x(t) = \\left(\\frac{3+2}{2.5}\\right)^2$\n",
        "\n",
        "\n",
        "2.Write a program that asks the user for the number of hours worked and the hourly rate. Then, it should display on the screen the corresponding payment.\n",
        "\n",
        "3.Write a program that asks the user for their weight (in kg) and height (in meters), calculates the body mass index (BMI), stores it in a variable, and displays the message \"Your body mass index is imc\" on the screen, where imc is the calculated BMI rounded to two decimal places."
      ],
      "metadata": {
        "id": "NLmo3rR5kEm8"
      }
    },
    {
      "cell_type": "code",
      "execution_count": 7,
      "metadata": {
        "colab": {
          "base_uri": "https://localhost:8080/"
        },
        "id": "WyTuW2zzkB3A",
        "outputId": "7b13c254-31ec-4a94-b46b-d525e3ff82ce"
      },
      "outputs": [
        {
          "output_type": "stream",
          "name": "stdout",
          "text": [
            "4.0\n"
          ]
        }
      ],
      "source": [
        "#Solucionario de ejercicios de variables:\n",
        "#1.\n",
        "x=((3+2)/2.5)**2\n",
        "print (x)\n",
        "#para el ejercicio anterior solo se crea una variable con la operación y en la segunda línea de código se procede a mostrarla en pantalla"
      ]
    },
    {
      "cell_type": "code",
      "source": [
        "#2.\n",
        "HT=input(\"Ingrese las horas que trabajó:  \")\n",
        "HT=int(HT)\n",
        "PT=input(\"Ingrese el pago por cada hora:  \")\n",
        "PT=int(PT)\n",
        "PTT=HT*PT\n",
        "print(PTT)\n",
        "#tenemos un paso muy similar al primer punto solo que aqui solicitamos datos al usuario mediante\n",
        "#la función predeterminada de python \"input\", posteriormente se deja en claro que es un dato de tipo entero para así poder trabajar sin errores"
      ],
      "metadata": {
        "colab": {
          "base_uri": "https://localhost:8080/"
        },
        "id": "aOIq6riVlZzy",
        "outputId": "147a750e-20b8-4381-a4b2-447e38c2ff2d"
      },
      "execution_count": 39,
      "outputs": [
        {
          "output_type": "stream",
          "name": "stdout",
          "text": [
            "Ingrese las horas que trabajó:  15\n",
            "Ingrese el pago por cada hora:  1000\n",
            "15000\n"
          ]
        }
      ]
    },
    {
      "cell_type": "code",
      "source": [
        "#3.\n",
        "KG=float(input(\"Ingrese su peso en(Kg): \"))\n",
        "MT=float(input(\"Ingrese su estatura en(Metros): \"))\n",
        "K = float(KG/(MT**2))\n",
        "print(K)\n",
        "#seguimos el funcionamiento anterior pero esta vez afirmando que estamos trabajando con flotantes"
      ],
      "metadata": {
        "colab": {
          "base_uri": "https://localhost:8080/"
        },
        "id": "4dKtiHdvl_EC",
        "outputId": "94aa80ad-a1de-4d1d-a979-627542baf894"
      },
      "execution_count": 9,
      "outputs": [
        {
          "output_type": "stream",
          "name": "stdout",
          "text": [
            "Ingrese su peso en(Kg): 77\n",
            "Ingrese su estatura en(Metros): 1.77\n",
            "24.577867151840145\n"
          ]
        }
      ]
    },
    {
      "cell_type": "markdown",
      "source": [
        "Exercises Conditionals\n",
        "\n",
        "1.In order to pay a certain tax, you must be over 16 years old and have a monthly income equal to or greater than €1000. Write a program that asks the user for their age and monthly income, and displays whether the user has to pay the tax or not.\n",
        "\n",
        "2.The Bella Napoli pizzeria offers vegetarian and non-vegetarian pizzas to its customers. The ingredients for each type of pizza are as follows:\n",
        "\n",
        "Vegetarian ingredients: Bell peppers and tofu.\n",
        "\n",
        "Non-vegetarian ingredients: Pepperoni, Ham, and Salmon.\n",
        "\n",
        "Write a program that asks the user if they want a vegetarian pizza or not, and based on their response, displays a menu with the available ingredients for them to choose from. Only one additional ingredient can be chosen besides the mozzarella and tomato, which are included in all pizzas. Finally, the program should display whether the chosen pizza is vegetarian or not, along with all the ingredients it contains."
      ],
      "metadata": {
        "id": "ZOBZW9HBmXZV"
      }
    },
    {
      "cell_type": "code",
      "source": [
        "#Solucionario de condicionales\n",
        "#1.\n",
        "age=input(\"ingrese su edad: \")\n",
        "agel=int(age)\n",
        "pay=input(\"ingrese sus ingresos mensuales \")\n",
        "payl=int(pay)\n",
        "if agel>=16 and payl>=1000:\n",
        "  print(\"tu debes pagar intereses\")\n",
        "else:\n",
        "  print(\"Tu no debes pagar intereses\")\n",
        "  #para el uso de condicionales siempre debemos establecer nuestras condiciones de ingreso perfectamente y teninendo en cuenta si es necesario un and, or o algo más"
      ],
      "metadata": {
        "colab": {
          "base_uri": "https://localhost:8080/"
        },
        "id": "NVZUxSSemf8h",
        "outputId": "a34e81a2-a5e3-4807-e238-d32e059ef9a1"
      },
      "execution_count": 10,
      "outputs": [
        {
          "output_type": "stream",
          "name": "stdout",
          "text": [
            "ingrese su edad: 2\n",
            "ingrese sus ingresos mensuales 1500\n",
            "Tu no debes pagar intereses\n"
          ]
        }
      ]
    },
    {
      "cell_type": "code",
      "source": [
        "#2.\n",
        "cli=input(\"ingrese 1 si el cliente es vegetariano o cualquier otro valor si no lo es: \")\n",
        "cli=int(cli)\n",
        "if cli==1:\n",
        "  print(\"Los ingredientes adicionales a elegir son: Pimientos o tofu\")\n",
        "  ele=input(\"ingrese 1 en caso de que el cliente haya elegido pimientos o ingrese otro valor si el cliente eligió tofu: \")\n",
        "  ele=int(ele)\n",
        "  if ele==1:\n",
        "    print(\"Usted ha elegido una pizza vegetariana con pimientos\")\n",
        "  else:\n",
        "    print(\"Usted ha elegido una pizza vegetariana con tofu\")\n",
        "else:\n",
        "  print(\"Los ingredientes adicionales a elegir son: Peperoni, jamón ó salmón\")\n",
        "  ele=input(\"ingrese 1 en caso de que el cliente haya elegido Peperoni, ingrese 2 si eligió jamón o ingrese cualquier otro valor si eligió salmón: \")\n",
        "  ele=int(ele)\n",
        "  if ele==1:\n",
        "    print(\"Usted ha elegido una pizza no vegetariana con Peperoni\")\n",
        "  elif ele==2:\n",
        "      print(\"Usted ha elegido una pizza no vegetariana con jamón\")\n",
        "  else:\n",
        "      print(\"Usted ha elegido una pizza no vegetariana con salmón\")\n",
        "#para el caso anterior solo tenemos un conjunto de varios condicionales los cuales nos dirigen dependiendo de nuestras elecciones a diferentes caminos del código."
      ],
      "metadata": {
        "colab": {
          "base_uri": "https://localhost:8080/"
        },
        "id": "taCcthdQmu2n",
        "outputId": "d2a6f878-9cc8-4924-d285-c1757b44a450"
      },
      "execution_count": 11,
      "outputs": [
        {
          "output_type": "stream",
          "name": "stdout",
          "text": [
            "ingrese 1 si el cliente es vegetariano o cualquier otro valor si no lo es: 1\n",
            "Los ingredientes adicionales a elegir son: Pimientos o tofu\n",
            "ingrese 1 en caso de que el cliente haya elegido pimientos o ingrese otro valor si el cliente eligió tofu: 2\n",
            "Usted ha elegido una pizza vegetariana con tofu\n"
          ]
        }
      ]
    },
    {
      "cell_type": "markdown",
      "source": [
        "Exercises Cicles:\n",
        "\n",
        "1.Write a code that ask the user to enter an integer number every time, and the process will be repeated with more numbers until the user enters a zero.\n",
        "At the end (when the zero is entered), show the amount of numbers entered.\n",
        "\n",
        "2.Use the input() function to ask for the user to enter one integer number. Only if the number is even, it will be accumulated.\n",
        "The program must come to an end if the sum of the numbers surpasses 50 or if the user enters a maximum of 10 numbers."
      ],
      "metadata": {
        "id": "Bg9CcbN1nBzS"
      }
    },
    {
      "cell_type": "code",
      "source": [
        "#Solucionario de los ciclos\n",
        "#1.\n",
        "N = int(input('ingresa un número entero teniendo en cuenta que el 0 finaliza la operación: '))\n",
        "CN=0\n",
        "while N != 0:\n",
        "    N = int(input('Sigue ingresando números enteros, 0 para finalizar: '))\n",
        "    CN += 1\n",
        "print('El programa ha finalizado, ingresaste ',CN,\"  números antes de finalizar.\")\n",
        "#para este caso procedemos a trabajar con los ciclos, en este en especifico usamos\n",
        "# un while que requiere de una condición para el \"mientras que se cumpla\", en el caso que no se cumpla se sale de nuestro ciclo"
      ],
      "metadata": {
        "colab": {
          "base_uri": "https://localhost:8080/"
        },
        "id": "NGE5-2q3nFd-",
        "outputId": "c90d1955-e54a-443a-f5f9-fd82153b3d8e"
      },
      "execution_count": 12,
      "outputs": [
        {
          "output_type": "stream",
          "name": "stdout",
          "text": [
            "ingresa un número entero teniendo en cuenta que el 0 finaliza la operación: 0\n",
            "El programa ha finalizado, ingresaste  0   números antes de finalizar.\n"
          ]
        }
      ]
    },
    {
      "cell_type": "code",
      "source": [
        "3#2.\n",
        "n=0\n",
        "sum=0\n",
        "while n < 10 and sum < 50 :\n",
        "    i = int(input('Ingresa un número entero: '))\n",
        "    if i % 2 == 0:\n",
        "      s=int(i)\n",
        "      sum=sum+s\n",
        "      print(sum)\n",
        "    n=n+1"
      ],
      "metadata": {
        "colab": {
          "base_uri": "https://localhost:8080/"
        },
        "id": "0PzOk3g6oiiz",
        "outputId": "424fbf5a-43cc-4341-a023-abd364cdd8ee"
      },
      "execution_count": 13,
      "outputs": [
        {
          "output_type": "stream",
          "name": "stdout",
          "text": [
            "Ingresa un número entero: 0\n",
            "0\n",
            "Ingresa un número entero: 1\n",
            "Ingresa un número entero: 2\n",
            "2\n",
            "Ingresa un número entero: 28\n",
            "30\n",
            "Ingresa un número entero: 30\n",
            "60\n"
          ]
        }
      ]
    },
    {
      "cell_type": "markdown",
      "source": [
        "Exercises Data Type:\n",
        "\n",
        "1.Write a function that takes a list of numbers as input and returns the sum of all the odd numbers in the list. For example, if the input is [1, 2, 3, 4, 5, 6], the function should return 9 (which is the sum of 1, 3, and 5).\n",
        "\n",
        "2.Write a function that takes a list of words as input and returns a dictionary that counts the number of times each word appears in the list. For example, if the input is ['apple', 'banana', 'apple', 'cherry', 'cherry', 'cherry'], the function should return {'apple': 2, 'banana': 1, 'cherry': 3}."
      ],
      "metadata": {
        "id": "5Kvls2CSqBEJ"
      }
    },
    {
      "cell_type": "code",
      "source": [
        "#Solucionario de los ejercicios Data Typer\n",
        "#1.def odd_numbers(numbers):\n",
        "def numerosp(numbers):\n",
        "  odd_sum = 0\n",
        "  for number in numbers:\n",
        "    if number % 2 != 0:\n",
        "      odd_sum += number\n",
        "  return odd_sum\n",
        "resultado=numerosp([1,2,3,4,5,6,7,8,9,10])\n",
        "print(\"La suma de números primos es de:\", resultado)"
      ],
      "metadata": {
        "colab": {
          "base_uri": "https://localhost:8080/"
        },
        "id": "nh6Ogb8aqEGE",
        "outputId": "acadfe20-4128-4168-82f9-fb5c2ea6662e"
      },
      "execution_count": 14,
      "outputs": [
        {
          "output_type": "stream",
          "name": "stdout",
          "text": [
            "La suma de números primos es de: 25\n"
          ]
        }
      ]
    },
    {
      "cell_type": "code",
      "source": [
        "k=[1,2,3,4,54,6,51,54,4,51,65,51,58,1,515,11,58,11,61]\n",
        "m=numerosp(k)\n",
        "print(m)"
      ],
      "metadata": {
        "colab": {
          "base_uri": "https://localhost:8080/"
        },
        "id": "2sLs4aynrR_K",
        "outputId": "1326f686-9d2a-4443-826d-55a86e590b80"
      },
      "execution_count": 15,
      "outputs": [
        {
          "output_type": "stream",
          "name": "stdout",
          "text": [
            "821\n"
          ]
        }
      ]
    },
    {
      "cell_type": "code",
      "source": [
        "#2.\n",
        "def cl(lp):\n",
        "    CP = {}\n",
        "    for P in lp:\n",
        "        if P in CP:\n",
        "            CP[P] += 1\n",
        "        else:\n",
        "            CP[P] = 1\n",
        "    return CP\n",
        "input_list = ['apple', 'banana', 'apple', 'cherry', 'cherry', 'cherry']\n",
        "result = cl(input_list)\n",
        "print(result)"
      ],
      "metadata": {
        "colab": {
          "base_uri": "https://localhost:8080/"
        },
        "id": "i5cCgIWrrjpx",
        "outputId": "be07b59e-c9b4-46e6-a255-736c6d96aa30"
      },
      "execution_count": 16,
      "outputs": [
        {
          "output_type": "stream",
          "name": "stdout",
          "text": [
            "{'apple': 2, 'banana': 1, 'cherry': 3}\n"
          ]
        }
      ]
    },
    {
      "cell_type": "markdown",
      "source": [
        "Ejercicios de clases:\n",
        "\n",
        "1.Crea una clase \"Persona\" que tenga atributos como nombre, edad, género y métodos para presentarse y saludar a otras personas.\n",
        "\n",
        "2.Crea una clase \"Coche\" que tenga atributos como marca, modelo, año, kilometraje y métodos para arrancar, acelerar y frenar.\n",
        "\n",
        "3.Crea una clase \"Rectángulo\" que tenga atributos como longitud y ancho y métodos para calcular el área y el perímetro.\n",
        "\n",
        "4.Crea una clase \"Banco\" que tenga atributos como nombre, dirección y métodos para abrir una cuenta, depositar dinero, retirar dinero y revisar el saldo.\n",
        "\n",
        "5.Crea una clase \"Estudiante\" que tenga atributos como nombre, edad, promedio y métodos para estudiar, hacer tareas y presentar exámenes."
      ],
      "metadata": {
        "id": "AUP9H0WqUY21"
      }
    },
    {
      "cell_type": "code",
      "source": [
        "#Solucionario 1.\n",
        "class persona:\n",
        "    def __init__(self, nombre, edad, genero):\n",
        "      self.nombre = nombre\n",
        "      self.edad = edad\n",
        "      self.genero = genero\n",
        "\n",
        "    def saludar(self):\n",
        "      print(f\"{self.nombre} está saludando.\")\n",
        "\n",
        "    def presentarse(self):\n",
        "      print(f\"Hola, mi nombre es: {self.nombre},tengo {self.edad} años de edad y me identifico como: {self.genero}\")\n",
        "\n",
        "\n",
        "p1=persona(\"alberto\",12,\"Terreneitor\")\n",
        "p1.presentarse()"
      ],
      "metadata": {
        "colab": {
          "base_uri": "https://localhost:8080/"
        },
        "id": "3FakmtxKUvAX",
        "outputId": "9a158ea8-0448-481b-e88f-2b4ab9d8d299"
      },
      "execution_count": 32,
      "outputs": [
        {
          "output_type": "stream",
          "name": "stdout",
          "text": [
            "Hola, mi nombre es: alberto,tengo 12 años de edad y me identifico como: Terreneitor\n"
          ]
        }
      ]
    },
    {
      "cell_type": "code",
      "source": [
        "#solución punto 2\n",
        "class Coche:\n",
        "    def __init__(self, marca, modelo, año, kilometraje):\n",
        "        self.marca = marca\n",
        "        self.modelo = modelo\n",
        "        self.año = año\n",
        "        self.kilometraje = kilometraje\n",
        "        self.encendido = False\n",
        "\n",
        "    def arrancar(self):\n",
        "        if not self.encendido:\n",
        "            self.encendido = True\n",
        "            print(f\"El coche {self.marca} {self.modelo} ha arrancado.\")\n",
        "        else:\n",
        "            print(\"El coche ya está encendido.\")\n",
        "\n",
        "    def acelerar(self, velocidad):\n",
        "        if self.encendido:\n",
        "            print(f\"El coche {self.marca} {self.modelo} está acelerando a {velocidad} km/h.\")\n",
        "            self.kilometraje += velocidad\n",
        "        else:\n",
        "            print(\"El coche no está encendido, no se puede acelerar.\")\n",
        "\n",
        "    def frenar(self):\n",
        "        if self.encendido:\n",
        "            print(f\"El coche {self.marca} {self.modelo} está frenando.\")\n",
        "        else:\n",
        "            print(\"El coche no está encendido, no se puede frenar.\")\n",
        "\n",
        "# Ejemplo de uso\n",
        "mi_coche = Coche(\"Toyota\", \"Corolla\", 2020, 15000)\n",
        "mi_coche.arrancar()\n",
        "mi_coche.acelerar(50)\n",
        "mi_coche.frenar()"
      ],
      "metadata": {
        "colab": {
          "base_uri": "https://localhost:8080/"
        },
        "id": "urhGwld6X9Mv",
        "outputId": "c1e96d71-a680-400a-dd68-cbea9e6c04b1"
      },
      "execution_count": 33,
      "outputs": [
        {
          "output_type": "stream",
          "name": "stdout",
          "text": [
            "El coche Toyota Corolla ha arrancado.\n",
            "El coche Toyota Corolla está acelerando a 50 km/h.\n",
            "El coche Toyota Corolla está frenando.\n"
          ]
        }
      ]
    },
    {
      "cell_type": "code",
      "source": [
        "#Solución punto 3\n",
        "class Rectangulo:\n",
        "    def __init__(self, base, altura):\n",
        "        self.base = base\n",
        "        self.altura = altura\n",
        "    def calcular_area(self):\n",
        "        return self.base * self.altura\n",
        "\n",
        "rectangulo = Rectangulo(4, 6)\n",
        "print(f\"Área del rectángulo: {rectangulo.calcular_area()}\")"
      ],
      "metadata": {
        "colab": {
          "base_uri": "https://localhost:8080/"
        },
        "id": "nM7NHsvcY841",
        "outputId": "a2dd5c74-d458-498c-b74b-3d173c4171c6"
      },
      "execution_count": 34,
      "outputs": [
        {
          "output_type": "stream",
          "name": "stdout",
          "text": [
            "Área del rectángulo: 24\n"
          ]
        }
      ]
    },
    {
      "cell_type": "code",
      "source": [
        "#Solución punto 4\n",
        "class Banco:\n",
        "    def __init__(self, nombre, direccion):\n",
        "        self.nombre = nombre\n",
        "        self.direccion = direccion\n",
        "        self.cuentas = {}\n",
        "\n",
        "    def abrir_cuenta(self, cliente, saldo_inicial=0):\n",
        "        if cliente not in self.cuentas:\n",
        "            self.cuentas[cliente] = saldo_inicial\n",
        "            print(f\"Cuenta abierta para {cliente} en {self.nombre}\")\n",
        "        else:\n",
        "            print(f\"{cliente} ya tiene una cuenta en {self.nombre}\")\n",
        "\n",
        "    def depositar_dinero(self, cliente, cantidad):\n",
        "        if cliente in self.cuentas:\n",
        "            self.cuentas[cliente] += cantidad\n",
        "            print(f\"{cantidad} pesos depositados en la cuenta de {cliente}\")\n",
        "        else:\n",
        "            print(f\"{cliente} no tiene una cuenta en {self.nombre}\")\n",
        "\n",
        "    def retirar_dinero(self, cliente, cantidad):\n",
        "        if cliente in self.cuentas:\n",
        "            if self.cuentas[cliente] >= cantidad:\n",
        "                self.cuentas[cliente] -= cantidad\n",
        "                print(f\"{cantidad} pesos retirados de la cuenta de {cliente}\")\n",
        "            else:\n",
        "                print(f\"Saldo insuficiente en la cuenta de {cliente}\")\n",
        "        else:\n",
        "            print(f\"{cliente} no tiene una cuenta en {self.nombre}\")\n",
        "\n",
        "    def revisar_saldo(self, cliente):\n",
        "        if cliente in self.cuentas:\n",
        "            print(f\"Saldo de {cliente} en {self.nombre}: {self.cuentas[cliente]} pesos\")\n",
        "        else:\n",
        "            print(f\"{cliente} no tiene una cuenta en {self.nombre}\")\n",
        "\n",
        "# Ejemplo de uso:\n",
        "mi_banco = Banco(\"Banco_chapitas\", \"Tangamandapio\")\n",
        "\n",
        "mi_banco.abrir_cuenta(\"Alice\", 1000)\n",
        "mi_banco.depositar_dinero(\"Alice\", 500)\n",
        "mi_banco.retirar_dinero(\"Alice\", 400)\n",
        "mi_banco.revisar_saldo(\"Alice\")"
      ],
      "metadata": {
        "colab": {
          "base_uri": "https://localhost:8080/"
        },
        "id": "gLXgFoRDZPRF",
        "outputId": "ae1c3abc-ff24-4919-d005-58467be46315"
      },
      "execution_count": 44,
      "outputs": [
        {
          "output_type": "stream",
          "name": "stdout",
          "text": [
            "Cuenta abierta para Alice en Banco_chapitas\n",
            "500 pesos depositados en la cuenta de Alice\n",
            "400 pesos retirados de la cuenta de Alice\n",
            "Saldo de Alice en Banco_chapitas: 1100 pesos\n"
          ]
        }
      ]
    },
    {
      "cell_type": "code",
      "source": [
        "#Solución punto 5\n",
        "class Estudiante:\n",
        "    def __init__(self, nombre, edad, promedio=0.0):\n",
        "        self.nombre = nombre\n",
        "        self.edad = edad\n",
        "        self.promedio = promedio\n",
        "\n",
        "    def estudiar(self, horas_de_estudio):\n",
        "        print(f\"{self.nombre} está estudiando durante {horas_de_estudio} horas.\")\n",
        "        self.promedio += 0.1 * horas_de_estudio\n",
        "\n",
        "    def hacer_tareas(self, horas_de_trabajo):\n",
        "        print(f\"{self.nombre} está haciendo tareas durante {horas_de_trabajo} horas.\")\n",
        "        self.promedio += 0.05 * horas_de_trabajo\n",
        "\n",
        "    def presentar_examen(self, calificacion):\n",
        "        print(f\"{self.nombre} ha presentado un examen con calificación {calificacion}.\")\n",
        "        self.promedio = (self.promedio + calificacion) / 2\n",
        "\n",
        "# Ejemplo de uso:\n",
        "estudiante1 = Estudiante(\"Alice\", 20, 85.0)\n",
        "estudiante2 = Estudiante(\"Bob\", 22, 78.5)\n",
        "\n",
        "estudiante1.estudiar(5)\n",
        "estudiante1.hacer_tareas(3)\n",
        "estudiante1.presentar_examen(90)\n",
        "\n",
        "estudiante2.estudiar(4)\n",
        "estudiante2.hacer_tareas(2)\n",
        "estudiante2.presentar_examen(85)\n",
        "\n",
        "print(f\"El promedio de {estudiante1.nombre} es {estudiante1.promedio}\")\n",
        "print(f\"El promedio de {estudiante2.nombre} es {estudiante2.promedio}\")"
      ],
      "metadata": {
        "colab": {
          "base_uri": "https://localhost:8080/"
        },
        "id": "fFhYr3L_aW1L",
        "outputId": "ca54b9da-785d-4168-f2b3-77e80a9d1233"
      },
      "execution_count": 40,
      "outputs": [
        {
          "output_type": "stream",
          "name": "stdout",
          "text": [
            "Alice está estudiando durante 5 horas.\n",
            "Alice está haciendo tareas durante 3 horas.\n",
            "Alice ha presentado un examen con calificación 90.\n",
            "Bob está estudiando durante 4 horas.\n",
            "Bob está haciendo tareas durante 2 horas.\n",
            "Bob ha presentado un examen con calificación 85.\n",
            "El promedio de Alice es 87.825\n",
            "El promedio de Bob es 82.0\n"
          ]
        }
      ]
    },
    {
      "cell_type": "markdown",
      "source": [
        "Ejercicios de Herencia.\n",
        "\n",
        "1.Crea un sistema de manejo de figuras geométricas utilizando clases y herencia. Debes tener una clase base llamada \"FiguraGeometrica\" con un método abstracto llamado \"calcular_area()\". Luego, crea clases derivadas para diferentes tipos de figuras geométricas, como \"Círculo\", \"Rectángulo\" y \"Triángulo\". Cada clase derivada debe implementar el método \"calcular_area()\" de acuerdo con la fórmula correspondiente para el cálculo del área de esa figura.\n",
        "\n",
        "Ejercicio_2\n",
        "Crea un sistema de reserva de vuelos utilizando clases y herencia. Debes tener una clase base llamada \"Vuelo\" con los siguientes atributos: número de vuelo, origen, destino, y capacidad máxima de pasajeros. Luego, crea una clase derivada llamada \"VueloEconomico\" que herede de la clase base y agregue un atributo adicional llamado \"tarifa\". Además, agrega métodos en ambas clases para mostrar la información del vuelo y realizar una reserva de asientos.\n",
        "\n",
        "La clase base \"Vuelo\" debe tener un método para verificar si hay asientos disponibles y otro para realizar la reserva de un asiento. La clase derivada \"VueloEconomico\" puede tener métodos adicionales para calcular el precio total de la reserva de acuerdo con la tarifa y la cantidad de asientos reservados.\n",
        "\n",
        "\n",
        "```\n",
        "# Esto tiene formato de código\n",
        "```\n",
        "\n"
      ],
      "metadata": {
        "id": "hHOJZNlEso1w"
      }
    },
    {
      "cell_type": "code",
      "source": [
        "#1.\n",
        "import math\n",
        "class FiguraGeometrica:\n",
        "    def calcular_area(self):\n",
        "        pass\n",
        "class Circulo(FiguraGeometrica):\n",
        "    def __init__(self, radio):\n",
        "        self.radio = radio\n",
        "    def calcular_area(self):\n",
        "        return math.pi * self.radio**2\n",
        "class Rectangulo(FiguraGeometrica):\n",
        "    def __init__(self, base, altura):\n",
        "        self.base = base\n",
        "        self.altura = altura\n",
        "    def calcular_area(self):\n",
        "        return self.base * self.altura\n",
        "\n",
        "class Triangulo(FiguraGeometrica):\n",
        "    def __init__(self, base, altura):\n",
        "        self.base = base\n",
        "        self.altura = altura\n",
        "    def calcular_area(self):\n",
        "        return (self.base * self.altura) / 2\n",
        "###############################################################\n",
        "circulo = Circulo(5)\n",
        "print(f\"Área del círculo: {circulo.calcular_area()}\")\n",
        "\n",
        "rectangulo = Rectangulo(4, 6)\n",
        "print(f\"Área del rectángulo: {rectangulo.calcular_area()}\")\n",
        "\n",
        "triangulo = Triangulo(3, 8)\n",
        "print(f\"Área del triángulo: {triangulo.calcular_area()}\")"
      ],
      "metadata": {
        "colab": {
          "base_uri": "https://localhost:8080/"
        },
        "id": "QNFolQXWstcE",
        "outputId": "4b652bfd-1ff7-45f5-a5e9-5250ee2648e0"
      },
      "execution_count": 41,
      "outputs": [
        {
          "output_type": "stream",
          "name": "stdout",
          "text": [
            "Área del círculo: 78.53981633974483\n",
            "Área del rectángulo: 24\n",
            "Área del triángulo: 12.0\n"
          ]
        }
      ]
    },
    {
      "cell_type": "code",
      "source": [
        "#2.\n",
        "class Vuelo:\n",
        "    def __init__(self, numero_vuelo, origen, destino, capacidad_maxima):\n",
        "        self.numero_vuelo = numero_vuelo\n",
        "        self.origen = origen\n",
        "        self.destino = destino\n",
        "        self.capacidad_maxima = capacidad_maxima\n",
        "        self.asientos_disponibles = capacidad_maxima\n",
        "        self.reservas = []\n",
        "\n",
        "    def mostrar_informacion_vuelo(self):\n",
        "        print(f\"Número de vuelo: {self.numero_vuelo}\")\n",
        "        print(f\"Origen: {self.origen}\")\n",
        "        print(f\"Destino: {self.destino}\")\n",
        "        print(f\"Capacidad máxima de pasajeros: {self.capacidad_maxima}\")\n",
        "        print(f\"Asientos disponibles: {self.asientos_disponibles}\")\n",
        "\n",
        "    def verificar_disponibilidad(self, cantidad_asientos):\n",
        "        return self.asientos_disponibles >= cantidad_asientos\n",
        "\n",
        "    def realizar_reserva(self, cantidad_asientos, pasajero):\n",
        "        if self.verificar_disponibilidad(cantidad_asientos):\n",
        "            self.reservas.append((cantidad_asientos, pasajero))\n",
        "            self.asientos_disponibles -= cantidad_asientos\n",
        "            print(f\"Reserva exitosa para {cantidad_asientos} pasajero(s).\")\n",
        "        else:\n",
        "            print(\"No hay suficientes asientos disponibles para esta reserva.\")\n",
        "56\n",
        "class VueloEconomico(Vuelo):\n",
        "    def __init__(self, numero_vuelo, origen, destino, capacidad_maxima, tarifa):\n",
        "        super().__init__(numero_vuelo, origen, destino, capacidad_maxima)\n",
        "        self.tarifa = tarifa\n",
        "\n",
        "    def calcular_precio_total(self, cantidad_asientos):\n",
        "        return self.tarifa * cantidad_asientos\n",
        "################################################################################\n",
        "vuelo1 = VueloEconomico(\"V2\", \"Ciudad A\", \"Ciudad B\", 150, 200)\n",
        "vuelo1.mostrar_informacion_vuelo()\n",
        "vuelo1.realizar_reserva(2, \"Pasajero 1\")\n",
        "vuelo1.realizar_reserva(3, \"Pasajero 2\")\n",
        "vuelo1.mostrar_informacion_vuelo()\n",
        "precio_total = vuelo1.calcular_precio_total(2)\n",
        "print(f\"Precio total de la reserva: ${precio_total}\")"
      ],
      "metadata": {
        "colab": {
          "base_uri": "https://localhost:8080/"
        },
        "id": "nYJmYmR4tFOP",
        "outputId": "58264662-481f-46cb-cb45-a9aedc895bfc"
      },
      "execution_count": 42,
      "outputs": [
        {
          "output_type": "stream",
          "name": "stdout",
          "text": [
            "Número de vuelo: V2\n",
            "Origen: Ciudad A\n",
            "Destino: Ciudad B\n",
            "Capacidad máxima de pasajeros: 150\n",
            "Asientos disponibles: 150\n",
            "Reserva exitosa para 2 pasajero(s).\n",
            "Reserva exitosa para 3 pasajero(s).\n",
            "Número de vuelo: V2\n",
            "Origen: Ciudad A\n",
            "Destino: Ciudad B\n",
            "Capacidad máxima de pasajeros: 150\n",
            "Asientos disponibles: 145\n",
            "Precio total de la reserva: $400\n"
          ]
        }
      ]
    }
  ]
}