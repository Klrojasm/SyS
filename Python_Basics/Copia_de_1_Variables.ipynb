{
  "nbformat": 4,
  "nbformat_minor": 0,
  "metadata": {
    "colab": {
      "provenance": [],
      "include_colab_link": true
    },
    "kernelspec": {
      "name": "python3",
      "display_name": "Python 3"
    },
    "language_info": {
      "name": "python"
    }
  },
  "cells": [
    {
      "cell_type": "markdown",
      "metadata": {
        "id": "view-in-github",
        "colab_type": "text"
      },
      "source": [
        "<a href=\"https://colab.research.google.com/github/Klrojasm/SyS/blob/main/Copia_de_1_Variables.ipynb\" target=\"_parent\"><img src=\"https://colab.research.google.com/assets/colab-badge.svg\" alt=\"Open In Colab\"/></a>"
      ]
    },
    {
      "cell_type": "markdown",
      "source": [
        "\n",
        "#Introduction to Python Notebooks - Google Colab\n",
        "\n",
        "\n",
        "\n"
      ],
      "metadata": {
        "id": "CY3REa3O8ldU"
      }
    },
    {
      "cell_type": "markdown",
      "source": [
        "In Python, you don't have to declare the data type for variables like in other programming languages. When you assign a value to a variable, Python automatically determines its data type based on the assigned value. However, the basic data types in Python are as follows:\n",
        "\n",
        "1. Integer (int): Represents whole numbers without decimals, such as 5, -10, or 0.\n",
        "\n",
        "2. Float: Represents numbers with decimal points, such as 3.14, -2.5, or 0.0.\n",
        "\n",
        "3. String (str): Represents a sequence of characters enclosed in single quotes ('') or double quotes (\"\"). For example, \"Hello, World!\" or 'Python'.\n",
        "\n",
        "4. Boolean (bool): Represents either True or False. It is used for logical operations and conditional statements.\n",
        "\n",
        "5. List: Represents an ordered collection of items enclosed in square brackets ([]). Lists can contain elements of different data types and are mutable (modifiable).\n",
        "\n",
        "6. Tuple: Similar to lists, tuples are also ordered collections of items, but they are enclosed in parentheses (()). Tuples are immutable (cannot be modified).\n",
        "\n",
        "7. Dictionary (dict): Represents a collection of key-value pairs enclosed in curly braces ({}). Each value is associated with a unique key, allowing fast retrieval of values.\n",
        "\n",
        "8. Set: Represents an unordered collection of unique elements enclosed in curly braces ({}). Sets are useful for eliminating duplicate values and performing mathematical set operations.\n",
        "\n",
        "These are the basic data types in Python, and they provide the foundation for more complex data structures and objects."
      ],
      "metadata": {
        "id": "qePyAGJG8sZF"
      }
    },
    {
      "cell_type": "code",
      "source": [
        "a = 2  # Integer type\n",
        "b = a + 3\n",
        "\n",
        "f = 0.176  # Float type\n",
        "\n",
        "condition = True  # Boolean type\n",
        "\n",
        "s = \"Hello\"  # String type"
      ],
      "metadata": {
        "id": "rSWRG-M_9BQr"
      },
      "execution_count": null,
      "outputs": []
    },
    {
      "cell_type": "code",
      "source": [
        "type(a) #type function print the variable type"
      ],
      "metadata": {
        "colab": {
          "base_uri": "https://localhost:8080/"
        },
        "id": "2kGCqjPnAhYg",
        "outputId": "947126dc-ee2c-4f1e-e184-2e511f21c4e8"
      },
      "execution_count": null,
      "outputs": [
        {
          "output_type": "execute_result",
          "data": {
            "text/plain": [
              "int"
            ]
          },
          "metadata": {},
          "execution_count": 2
        }
      ]
    },
    {
      "cell_type": "code",
      "source": [
        "type(b)"
      ],
      "metadata": {
        "colab": {
          "base_uri": "https://localhost:8080/"
        },
        "id": "Jcif8WDhBWJ3",
        "outputId": "b613aa8d-58f9-4419-af49-8f418ca93651"
      },
      "execution_count": null,
      "outputs": [
        {
          "output_type": "execute_result",
          "data": {
            "text/plain": [
              "int"
            ]
          },
          "metadata": {},
          "execution_count": 3
        }
      ]
    },
    {
      "cell_type": "code",
      "source": [
        "type(f)"
      ],
      "metadata": {
        "colab": {
          "base_uri": "https://localhost:8080/"
        },
        "id": "X7UjciSnBAdL",
        "outputId": "f3e7416c-4cf3-4964-f8c1-727403d7f391"
      },
      "execution_count": null,
      "outputs": [
        {
          "output_type": "execute_result",
          "data": {
            "text/plain": [
              "float"
            ]
          },
          "metadata": {},
          "execution_count": 4
        }
      ]
    },
    {
      "cell_type": "code",
      "source": [
        "type(condition)"
      ],
      "metadata": {
        "colab": {
          "base_uri": "https://localhost:8080/"
        },
        "id": "vPQm2VaBBCni",
        "outputId": "230a6467-bb85-4024-a234-859abe4c2e69"
      },
      "execution_count": null,
      "outputs": [
        {
          "output_type": "execute_result",
          "data": {
            "text/plain": [
              "bool"
            ]
          },
          "metadata": {},
          "execution_count": 5
        }
      ]
    },
    {
      "cell_type": "code",
      "source": [
        "type(s)"
      ],
      "metadata": {
        "colab": {
          "base_uri": "https://localhost:8080/"
        },
        "id": "6TTtTmCkBHNL",
        "outputId": "3acf47f6-f5c9-457d-8d3d-5cecc3804b8f"
      },
      "execution_count": null,
      "outputs": [
        {
          "output_type": "execute_result",
          "data": {
            "text/plain": [
              "str"
            ]
          },
          "metadata": {},
          "execution_count": 6
        }
      ]
    },
    {
      "cell_type": "markdown",
      "source": [
        "What happens if we add an int with a float?"
      ],
      "metadata": {
        "id": "nzJTHGf8Bers"
      }
    },
    {
      "cell_type": "code",
      "source": [
        "x = b + f\n",
        "x"
      ],
      "metadata": {
        "colab": {
          "base_uri": "https://localhost:8080/"
        },
        "id": "fxiyqBVlBYrZ",
        "outputId": "8bef819c-d67d-45db-f0ce-d0f6b34ee45e"
      },
      "execution_count": null,
      "outputs": [
        {
          "output_type": "execute_result",
          "data": {
            "text/plain": [
              "5.176"
            ]
          },
          "metadata": {},
          "execution_count": 7
        }
      ]
    },
    {
      "cell_type": "code",
      "source": [
        "type(x)"
      ],
      "metadata": {
        "colab": {
          "base_uri": "https://localhost:8080/"
        },
        "id": "n0dSEoBEBbiT",
        "outputId": "b4f14f92-dd41-4ea8-de3b-e749f8695dab"
      },
      "execution_count": null,
      "outputs": [
        {
          "output_type": "execute_result",
          "data": {
            "text/plain": [
              "float"
            ]
          },
          "metadata": {},
          "execution_count": 8
        }
      ]
    },
    {
      "cell_type": "markdown",
      "source": [
        "Another handy tool is the ability to convert data types.\n",
        "For instance, by converting x to an integer, we obtain only its integer part."
      ],
      "metadata": {
        "id": "qhmzXdWEBkts"
      }
    },
    {
      "cell_type": "code",
      "source": [
        "x2 = int(x) #variable casting\n",
        "x2"
      ],
      "metadata": {
        "colab": {
          "base_uri": "https://localhost:8080/"
        },
        "id": "9urmEVBeB2O7",
        "outputId": "69ce94f9-afef-4cca-a8a4-e79bf9365253"
      },
      "execution_count": null,
      "outputs": [
        {
          "output_type": "execute_result",
          "data": {
            "text/plain": [
              "5"
            ]
          },
          "metadata": {},
          "execution_count": 9
        }
      ]
    },
    {
      "cell_type": "code",
      "source": [
        "type(x2)"
      ],
      "metadata": {
        "colab": {
          "base_uri": "https://localhost:8080/"
        },
        "id": "5vO6QIlA2YJC",
        "outputId": "3d4aa9fc-2840-4f96-e6ff-c1449b86b66a"
      },
      "execution_count": null,
      "outputs": [
        {
          "output_type": "execute_result",
          "data": {
            "text/plain": [
              "int"
            ]
          },
          "metadata": {},
          "execution_count": 10
        }
      ]
    },
    {
      "cell_type": "markdown",
      "source": [
        "For boolean variables, their representation as integers can be useful for certain applications. The correspondence is as follows:\n",
        "\n",
        "True $\\neq$ 0 (More commonly represented as 1)\n",
        "\n",
        "False = 0"
      ],
      "metadata": {
        "id": "hUTYPuqRB7JS"
      }
    },
    {
      "cell_type": "code",
      "source": [
        "condicion_int = int(condition)\n",
        "condicion_int"
      ],
      "metadata": {
        "colab": {
          "base_uri": "https://localhost:8080/"
        },
        "id": "m7aHnSweB6Yy",
        "outputId": "df653656-ed27-4c55-f39d-16a9b4c81b72"
      },
      "execution_count": null,
      "outputs": [
        {
          "output_type": "execute_result",
          "data": {
            "text/plain": [
              "1"
            ]
          },
          "metadata": {},
          "execution_count": 11
        }
      ]
    },
    {
      "cell_type": "code",
      "source": [
        "c = 5\n",
        "condicion_2 = bool(c)\n",
        "condicion_2"
      ],
      "metadata": {
        "colab": {
          "base_uri": "https://localhost:8080/"
        },
        "id": "7fswi5YgCP1x",
        "outputId": "ff635318-58f5-4a29-9e4b-159a5dc4f42f"
      },
      "execution_count": null,
      "outputs": [
        {
          "output_type": "execute_result",
          "data": {
            "text/plain": [
              "True"
            ]
          },
          "metadata": {},
          "execution_count": 12
        }
      ]
    },
    {
      "cell_type": "code",
      "source": [
        "c = 0\n",
        "condicion_2 = bool(c)\n",
        "condicion_2"
      ],
      "metadata": {
        "colab": {
          "base_uri": "https://localhost:8080/"
        },
        "id": "14KqhWnGCwgP",
        "outputId": "a4279715-062d-4e8d-ed84-6de9cf6dae98"
      },
      "execution_count": null,
      "outputs": [
        {
          "output_type": "execute_result",
          "data": {
            "text/plain": [
              "False"
            ]
          },
          "metadata": {},
          "execution_count": 13
        }
      ]
    },
    {
      "cell_type": "markdown",
      "source": [
        "Two of the main commands used to interact with the console are: print() and input()."
      ],
      "metadata": {
        "id": "ZhNkkPAAIDDO"
      }
    },
    {
      "cell_type": "markdown",
      "source": [
        "The print() command allows us to display variables as well as the text that is provided as an argument on the screen."
      ],
      "metadata": {
        "id": "W5sOen9pJXY0"
      }
    },
    {
      "cell_type": "code",
      "source": [
        "print(\"This is the message to be printed.\\nIn this case, it has two lines.\") #\\n print a new line"
      ],
      "metadata": {
        "colab": {
          "base_uri": "https://localhost:8080/"
        },
        "id": "BU-dHeM0Jl7l",
        "outputId": "c72ddd16-55f5-401a-f924-b23a17778c10"
      },
      "execution_count": null,
      "outputs": [
        {
          "output_type": "stream",
          "name": "stdout",
          "text": [
            "This is the message to be printed.\n",
            "In this case, it has two lines.\n"
          ]
        }
      ]
    },
    {
      "cell_type": "code",
      "source": [
        "print(b)"
      ],
      "metadata": {
        "colab": {
          "base_uri": "https://localhost:8080/"
        },
        "id": "vk4hdmzRJ6R-",
        "outputId": "a750f79e-ccfe-4c5e-e395-85bffcb0ef4a"
      },
      "execution_count": null,
      "outputs": [
        {
          "output_type": "stream",
          "name": "stdout",
          "text": [
            "5\n"
          ]
        }
      ]
    },
    {
      "cell_type": "code",
      "source": [
        "print(condition)"
      ],
      "metadata": {
        "colab": {
          "base_uri": "https://localhost:8080/"
        },
        "id": "fzPS0Fh_KCig",
        "outputId": "ce8b9f18-1a58-4079-b9d9-4131a698db9b"
      },
      "execution_count": null,
      "outputs": [
        {
          "output_type": "stream",
          "name": "stdout",
          "text": [
            "True\n"
          ]
        }
      ]
    },
    {
      "cell_type": "markdown",
      "source": [
        "On the other hand, the input() command can also display a message on the screen, but it will be displayed before the input field where the value, which will be stored in a string variable, is entered."
      ],
      "metadata": {
        "id": "4Mrq_tb6KYEw"
      }
    },
    {
      "cell_type": "code",
      "source": [
        "y = input(\"Input a number please: \")\n",
        "y"
      ],
      "metadata": {
        "colab": {
          "base_uri": "https://localhost:8080/",
          "height": 53
        },
        "id": "BVX98Bx8LPs_",
        "outputId": "caae561d-7641-43ca-953c-4ce19a0e3ef5"
      },
      "execution_count": null,
      "outputs": [
        {
          "name": "stdout",
          "output_type": "stream",
          "text": [
            "Input a number please: 52452542420452452\n"
          ]
        },
        {
          "output_type": "execute_result",
          "data": {
            "text/plain": [
              "'52452542420452452'"
            ],
            "application/vnd.google.colaboratory.intrinsic+json": {
              "type": "string"
            }
          },
          "metadata": {},
          "execution_count": 17
        }
      ]
    },
    {
      "cell_type": "code",
      "source": [
        "type(y) #note that a str is captured, you need to privide a casting to convert it to a number if needed"
      ],
      "metadata": {
        "colab": {
          "base_uri": "https://localhost:8080/"
        },
        "id": "9JbU9M5rN_Vt",
        "outputId": "8bd5972f-4686-4768-bc07-def4a008ea02"
      },
      "execution_count": null,
      "outputs": [
        {
          "output_type": "execute_result",
          "data": {
            "text/plain": [
              "str"
            ]
          },
          "metadata": {},
          "execution_count": 18
        }
      ]
    },
    {
      "cell_type": "markdown",
      "source": [
        "\n",
        "Basic arithmetic operations:"
      ],
      "metadata": {
        "id": "QG5TxjW-OWqY"
      }
    },
    {
      "cell_type": "code",
      "source": [
        "a = 2 + 4.5 + 3\n",
        "b = a - 2.5 # . holds decimal operator\n",
        "b"
      ],
      "metadata": {
        "colab": {
          "base_uri": "https://localhost:8080/"
        },
        "id": "AUJtIrleRIdQ",
        "outputId": "0858ea93-1ea2-4a39-9d63-23d4759ac4e0"
      },
      "execution_count": null,
      "outputs": [
        {
          "output_type": "execute_result",
          "data": {
            "text/plain": [
              "7.0"
            ]
          },
          "metadata": {},
          "execution_count": 19
        }
      ]
    },
    {
      "cell_type": "code",
      "source": [
        "a = 3*8 # Multiplication maintains the data type if it is an integer\n",
        "b = a/6 # Division automatically converts it to a float even if it is exact\n",
        "a, b\n",
        "#imprime como si fuera una tupla"
      ],
      "metadata": {
        "colab": {
          "base_uri": "https://localhost:8080/"
        },
        "id": "pzLN54zIRPMw",
        "outputId": "f8ae7e2d-0ab7-4ee9-82ca-6b7fcc59193a"
      },
      "execution_count": null,
      "outputs": [
        {
          "output_type": "execute_result",
          "data": {
            "text/plain": [
              "(24, 4.0)"
            ]
          },
          "metadata": {},
          "execution_count": 20
        }
      ]
    },
    {
      "cell_type": "code",
      "source": [
        "a = 2**2 # ** power operator\n",
        "a"
      ],
      "metadata": {
        "colab": {
          "base_uri": "https://localhost:8080/"
        },
        "id": "hPtAUG8ASYWB",
        "outputId": "b35eadf5-7ba3-4eb5-f695-fdf7052f8481"
      },
      "execution_count": null,
      "outputs": [
        {
          "output_type": "execute_result",
          "data": {
            "text/plain": [
              "4"
            ]
          },
          "metadata": {},
          "execution_count": 21
        }
      ]
    },
    {
      "cell_type": "code",
      "source": [
        "b = 9**(1/2)\n",
        "b"
      ],
      "metadata": {
        "colab": {
          "base_uri": "https://localhost:8080/"
        },
        "id": "cxjxYCBVSbp0",
        "outputId": "cedecd4b-4b54-4ca5-dbc0-20a77d1073a7"
      },
      "execution_count": null,
      "outputs": [
        {
          "output_type": "execute_result",
          "data": {
            "text/plain": [
              "3.0"
            ]
          },
          "metadata": {},
          "execution_count": 22
        }
      ]
    },
    {
      "cell_type": "markdown",
      "source": [
        "\n",
        "This is a way to calculate square roots without using any library.\n",
        "In general, for more advanced calculations, numpy and sympy are commonly used."
      ],
      "metadata": {
        "id": "Q-Zz-FXuSkuC"
      }
    },
    {
      "cell_type": "markdown",
      "source": [
        "## Exercises"
      ],
      "metadata": {
        "id": "fe0JX6B0TEjG"
      }
    },
    {
      "cell_type": "markdown",
      "source": [
        "\n",
        "1. Write a program that displays the result of the following arithmetic operation on the screen: $x(t) = \\left(\\frac{3+2}{2.5}\\right)^2$\n",
        "\n",
        "2. Write a program that asks the user for the number of hours worked and the hourly rate. Then, it should display on the screen the corresponding payment.\n",
        "\n",
        "3. Write a program that asks the user for their weight (in kg) and height (in meters), calculates the body mass index (BMI), stores it in a variable, and displays the message \"Your body mass index is imc\" on the screen, where imc is the calculated BMI rounded to two decimal places."
      ],
      "metadata": {
        "id": "96blkWptzDmu"
      }
    },
    {
      "cell_type": "code",
      "source": [
        "K=((3+2)/2.5)**2\n",
        "print(\"el resultado de la operación es:\", K)"
      ],
      "metadata": {
        "id": "WZUl839RXsRv",
        "outputId": "207b9b3c-2c3c-46a9-99bf-eb109d1b47aa",
        "colab": {
          "base_uri": "https://localhost:8080/"
        }
      },
      "execution_count": null,
      "outputs": [
        {
          "output_type": "stream",
          "name": "stdout",
          "text": [
            "el resultado de la operación es: 4.0\n"
          ]
        }
      ]
    },
    {
      "cell_type": "code",
      "source": [
        "HT=input(\"Por favor ingrese las horas laboradas a lo largo de la semana: \")\n",
        "HTL=int(HT)\n",
        "pagoH=input(\"Ingrese el valor de cada hora de trabajo a pagar: \")\n",
        "pagoHL=int(pagoH)\n",
        "pago= HTL*pagoHL\n",
        "print(\"Su pago total de la semana es de:\", pago,\"pesos\")"
      ],
      "metadata": {
        "id": "4tgw8JTkYAFl",
        "outputId": "6ff8466a-4334-47d8-bb22-bf50a9836604",
        "colab": {
          "base_uri": "https://localhost:8080/"
        }
      },
      "execution_count": null,
      "outputs": [
        {
          "output_type": "stream",
          "name": "stdout",
          "text": [
            "Por favor ingrese las horas laboradas a lo largo de la semana: 20\n",
            "Ingrese el valor de cada hora de trabajo a pagar: 1000\n",
            "Su pago total de la semana es de: 20000 pesos\n"
          ]
        }
      ]
    },
    {
      "cell_type": "code",
      "source": [
        "KG=input(\"Por favor ingrese su peso: \")\n",
        "KGL=int(KG)\n",
        "MT=input(\"Ingrese su estatura en metros: \")\n",
        "MTL=float(MT)\n",
        "BMI= KGL/(MTL)**2\n",
        "print(\"Su BMI es de \", BMI)"
      ],
      "metadata": {
        "id": "XRnVLqakbumA",
        "outputId": "740df52c-347b-4538-f913-02a408543565",
        "colab": {
          "base_uri": "https://localhost:8080/"
        }
      },
      "execution_count": null,
      "outputs": [
        {
          "output_type": "stream",
          "name": "stdout",
          "text": [
            "Por favor ingrese su peso: 82\n",
            "Ingrese su estatura en metros: 1.77\n",
            "Su BMI es de  26.173832551310287\n"
          ]
        }
      ]
    },
    {
      "cell_type": "markdown",
      "source": [
        "Developed by:\n",
        "\n",
        "- Brian Patino Agudelo - bpatinoa@unal.edu.co\n",
        "\n",
        "- Andrés Marino Álvarez Meza - amalvarezme@unal.edu.co\n",
        "\n",
        "- César Germán Castellanos Domínguez - cgcastellanosd@unal.edu.co"
      ],
      "metadata": {
        "id": "pwWLNV4zz5di"
      }
    },
    {
      "cell_type": "code",
      "source": [],
      "metadata": {
        "id": "DYIs5bv57aMv"
      },
      "execution_count": null,
      "outputs": []
    }
  ]
}